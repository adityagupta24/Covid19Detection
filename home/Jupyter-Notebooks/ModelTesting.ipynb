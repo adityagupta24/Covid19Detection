{
 "cells": [
  {
   "cell_type": "code",
   "execution_count": 1,
   "metadata": {},
   "outputs": [
    {
     "name": "stderr",
     "output_type": "stream",
     "text": [
      "Using TensorFlow backend.\n"
     ]
    }
   ],
   "source": [
    "import numpy as np\n",
    "import matplotlib.pyplot as plt\n",
    "import keras\n",
    "from keras.models import Sequential,load_model\n",
    "from keras.layers import *\n",
    "from keras.optimizers import Adam\n",
    "from keras.preprocessing import image"
   ]
  },
  {
   "cell_type": "code",
   "execution_count": 2,
   "metadata": {},
   "outputs": [],
   "source": [
    "import os\n",
    "import shutil\n",
    "import pandas as pd"
   ]
  },
  {
   "cell_type": "markdown",
   "metadata": {},
   "source": [
    "## Testing the trained model\n",
    "- Using the validation dir to test the model"
   ]
  },
  {
   "cell_type": "code",
   "execution_count": 3,
   "metadata": {},
   "outputs": [
    {
     "name": "stdout",
     "output_type": "stream",
     "text": [
      "(56, 224, 224, 3)\n"
     ]
    }
   ],
   "source": [
    "model = load_model(\"model.hdf5\")\n",
    "\n",
    "val_path = \"./covid19dataset/val/\"\n",
    "test_imgs = []\n",
    "\n",
    "for img_ in os.listdir(val_path+\"/Covid19\"):\n",
    "    img_path = os.path.join(val_path+\"/Covid19\",img_)\n",
    "    img = image.load_img(img_path,target_size = (224,224))\n",
    "    img = image.img_to_array(img)/255.0\n",
    "    test_imgs.append(img)\n",
    "    \n",
    "for img_ in os.listdir(val_path+\"/Normal\"):\n",
    "    img_path = os.path.join(val_path+\"/Normal\",img_)\n",
    "    img = image.load_img(img_path,target_size = (224,224))\n",
    "    img = image.img_to_array(img)/255.0\n",
    "    test_imgs.append(img)\n",
    "\n",
    "test_imgs = np.array(test_imgs)\n",
    "print(test_imgs.shape)"
   ]
  },
  {
   "cell_type": "code",
   "execution_count": 4,
   "metadata": {},
   "outputs": [
    {
     "name": "stdout",
     "output_type": "stream",
     "text": [
      "(56,)\n",
      "[0. 0. 0. 0. 0. 0. 0. 0. 0. 0. 0. 0. 0. 0. 0. 0. 0. 0. 0. 0. 0. 0. 0. 0.\n",
      " 0. 0. 0. 0. 1. 1. 1. 1. 1. 1. 1. 1. 1. 1. 1. 1. 1. 1. 1. 1. 1. 1. 1. 1.\n",
      " 1. 1. 1. 1. 1. 1. 1. 1.]\n"
     ]
    }
   ],
   "source": [
    "# labels of all the images\n",
    "# Covid --> 0, Normal --> 1\n",
    "lth = int(test_imgs.shape[0]/2)\n",
    "labels = np.hstack((np.zeros(lth),np.ones(lth)))\n",
    "print(labels.shape)\n",
    "print(labels)"
   ]
  },
  {
   "cell_type": "code",
   "execution_count": 5,
   "metadata": {},
   "outputs": [
    {
     "name": "stdout",
     "output_type": "stream",
     "text": [
      "[0 0 0 0 0 0 0 0 0 0 0 0 0 0 0 0 0 0 0 0 0 0 0 0 0 1 0 0 1 1 1 1 1 1 1 1 1\n",
      " 1 1 1 1 1 1 1 1 1 1 1 1 1 1 1 1 1 1 1]\n"
     ]
    }
   ],
   "source": [
    "y_pred = []\n",
    "for i in range(test_imgs.shape[0]):\n",
    "    img = np.expand_dims(test_imgs[i],axis=0)\n",
    "    pred = model.predict_classes(img)\n",
    "    y_pred.append(pred[0][0])\n",
    "\n",
    "y_pred = np.array(y_pred)\n",
    "print(y_pred)"
   ]
  },
  {
   "cell_type": "code",
   "execution_count": 6,
   "metadata": {},
   "outputs": [
    {
     "data": {
      "text/plain": [
       "0.9821428571428571"
      ]
     },
     "execution_count": 7,
     "metadata": {},
     "output_type": "execute_result"
    }
   ],
   "source": [
    "# The overall accuracy on the val dir is :\n",
    "np.sum(y_pred == labels)/y_pred.shape[0]"
   ]
  },
  {
   "cell_type": "code",
   "execution_count": null,
   "metadata": {},
   "outputs": [],
   "source": []
  }
 ],
 "metadata": {
  "kernelspec": {
   "display_name": "Python 3",
   "language": "python",
   "name": "python3"
  },
  "language_info": {
   "codemirror_mode": {
    "name": "ipython",
    "version": 3
   },
   "file_extension": ".py",
   "mimetype": "text/x-python",
   "name": "python",
   "nbconvert_exporter": "python",
   "pygments_lexer": "ipython3",
   "version": "3.7.4"
  }
 },
 "nbformat": 4,
 "nbformat_minor": 2
}
